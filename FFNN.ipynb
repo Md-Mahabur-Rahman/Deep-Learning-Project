{
  "nbformat": 4,
  "nbformat_minor": 0,
  "metadata": {
    "colab": {
      "name": "FFNN.ipynb",
      "provenance": []
    },
    "kernelspec": {
      "name": "python3",
      "display_name": "Python 3"
    },
    "language_info": {
      "name": "python"
    },
    "accelerator": "TPU"
  },
  "cells": [
    {
      "cell_type": "code",
      "metadata": {
        "id": "z9SLvZbm7W2Y"
      },
      "source": [
        "import numpy as np\n",
        "import matplotlib.pyplot as plt\n",
        "%matplotlib inline\n",
        "\n",
        "from sklearn.datasets import load_iris\n"
      ],
      "execution_count": 141,
      "outputs": []
    },
    {
      "cell_type": "code",
      "metadata": {
        "id": "NPT4px9j7hpt"
      },
      "source": [
        "\n",
        "datasets=load_iris()\n"
      ],
      "execution_count": 142,
      "outputs": []
    },
    {
      "cell_type": "code",
      "metadata": {
        "id": "XOwMizN470ax"
      },
      "source": [
        "data=datasets.data\n",
        "target=datasets.target\n"
      ],
      "execution_count": 143,
      "outputs": []
    },
    {
      "cell_type": "code",
      "metadata": {
        "id": "EG-pwTbR7-UA"
      },
      "source": [
        "import tensorflow as tf\n",
        "from tensorflow.keras.layers import Dense\n",
        "from tensorflow.keras.models import Sequential\n",
        "\n"
      ],
      "execution_count": 144,
      "outputs": []
    },
    {
      "cell_type": "code",
      "metadata": {
        "id": "NRHS62-i7-Q1"
      },
      "source": [
        "model = Sequential()\n",
        "model.add(Dense(8, input_dim=4,activation='relu'))\n",
        "model.add(Dense(8, input_dim=8,activation='relu'))\n",
        "model.add(Dense(3, input_dim=8,activation='softmax'))\n"
      ],
      "execution_count": 145,
      "outputs": []
    },
    {
      "cell_type": "code",
      "metadata": {
        "id": "KmVMtIDN7-OB"
      },
      "source": [
        "model.compile(loss=\"categorical_crossentropy\",optimizer=\"sgd\",metrics=['accuracy'])\n"
      ],
      "execution_count": 146,
      "outputs": []
    },
    {
      "cell_type": "code",
      "metadata": {
        "id": "bk0-57oX7-K0"
      },
      "source": [
        "from sklearn.model_selection import train_test_split\n"
      ],
      "execution_count": 147,
      "outputs": []
    },
    {
      "cell_type": "code",
      "metadata": {
        "id": "xXnh1rRf7-IN"
      },
      "source": [
        "xtrain,xtest,ytrain,ytest=train_test_split(data,target,test_size=0.20)\n"
      ],
      "execution_count": 148,
      "outputs": []
    },
    {
      "cell_type": "code",
      "metadata": {
        "id": "_wqhvvA17-FO"
      },
      "source": [
        "from tensorflow.keras.utils import to_categorical\n"
      ],
      "execution_count": 149,
      "outputs": []
    },
    {
      "cell_type": "code",
      "metadata": {
        "id": "iGEl7d9x7-CO"
      },
      "source": [
        "categorial_target=to_categorical(ytrain)\n"
      ],
      "execution_count": 150,
      "outputs": []
    },
    {
      "cell_type": "code",
      "metadata": {
        "colab": {
          "base_uri": "https://localhost:8080/"
        },
        "id": "cutdl1ML9emu",
        "outputId": "2e7ca73f-6ec4-4a5e-e54d-4ddcd0d34eea"
      },
      "source": [
        "history=model.fit(xtrain,categorial_target,epochs=100)\n"
      ],
      "execution_count": 151,
      "outputs": [
        {
          "output_type": "stream",
          "name": "stdout",
          "text": [
            "Epoch 1/100\n",
            "4/4 [==============================] - 0s 3ms/step - loss: 1.2900 - accuracy: 0.2667\n",
            "Epoch 2/100\n",
            "4/4 [==============================] - 0s 4ms/step - loss: 0.9954 - accuracy: 0.4250\n",
            "Epoch 3/100\n",
            "4/4 [==============================] - 0s 4ms/step - loss: 0.9642 - accuracy: 0.6250\n",
            "Epoch 4/100\n",
            "4/4 [==============================] - 0s 4ms/step - loss: 0.9385 - accuracy: 0.6917\n",
            "Epoch 5/100\n",
            "4/4 [==============================] - 0s 6ms/step - loss: 0.9228 - accuracy: 0.6667\n",
            "Epoch 6/100\n",
            "4/4 [==============================] - 0s 3ms/step - loss: 0.8932 - accuracy: 0.6667\n",
            "Epoch 7/100\n",
            "4/4 [==============================] - 0s 3ms/step - loss: 0.8794 - accuracy: 0.6917\n",
            "Epoch 8/100\n",
            "4/4 [==============================] - 0s 5ms/step - loss: 0.8418 - accuracy: 0.7667\n",
            "Epoch 9/100\n",
            "4/4 [==============================] - 0s 4ms/step - loss: 0.8243 - accuracy: 0.7083\n",
            "Epoch 10/100\n",
            "4/4 [==============================] - 0s 4ms/step - loss: 0.8210 - accuracy: 0.7417\n",
            "Epoch 11/100\n",
            "4/4 [==============================] - 0s 5ms/step - loss: 0.7966 - accuracy: 0.6750\n",
            "Epoch 12/100\n",
            "4/4 [==============================] - 0s 6ms/step - loss: 0.7547 - accuracy: 0.7667\n",
            "Epoch 13/100\n",
            "4/4 [==============================] - 0s 5ms/step - loss: 0.7394 - accuracy: 0.7250\n",
            "Epoch 14/100\n",
            "4/4 [==============================] - 0s 3ms/step - loss: 0.7201 - accuracy: 0.6750\n",
            "Epoch 15/100\n",
            "4/4 [==============================] - 0s 4ms/step - loss: 0.7242 - accuracy: 0.7000\n",
            "Epoch 16/100\n",
            "4/4 [==============================] - 0s 4ms/step - loss: 0.6844 - accuracy: 0.7500\n",
            "Epoch 17/100\n",
            "4/4 [==============================] - 0s 3ms/step - loss: 0.6684 - accuracy: 0.7583\n",
            "Epoch 18/100\n",
            "4/4 [==============================] - 0s 3ms/step - loss: 0.6783 - accuracy: 0.6917\n",
            "Epoch 19/100\n",
            "4/4 [==============================] - 0s 4ms/step - loss: 0.6557 - accuracy: 0.7500\n",
            "Epoch 20/100\n",
            "4/4 [==============================] - 0s 3ms/step - loss: 0.6428 - accuracy: 0.7667\n",
            "Epoch 21/100\n",
            "4/4 [==============================] - 0s 3ms/step - loss: 0.6378 - accuracy: 0.6750\n",
            "Epoch 22/100\n",
            "4/4 [==============================] - 0s 4ms/step - loss: 0.6256 - accuracy: 0.7667\n",
            "Epoch 23/100\n",
            "4/4 [==============================] - 0s 4ms/step - loss: 0.5917 - accuracy: 0.7833\n",
            "Epoch 24/100\n",
            "4/4 [==============================] - 0s 4ms/step - loss: 0.5775 - accuracy: 0.7167\n",
            "Epoch 25/100\n",
            "4/4 [==============================] - 0s 3ms/step - loss: 0.6325 - accuracy: 0.6917\n",
            "Epoch 26/100\n",
            "4/4 [==============================] - 0s 4ms/step - loss: 0.5670 - accuracy: 0.7333\n",
            "Epoch 27/100\n",
            "4/4 [==============================] - 0s 3ms/step - loss: 0.5659 - accuracy: 0.7667\n",
            "Epoch 28/100\n",
            "4/4 [==============================] - 0s 4ms/step - loss: 0.5663 - accuracy: 0.7417\n",
            "Epoch 29/100\n",
            "4/4 [==============================] - 0s 4ms/step - loss: 0.5346 - accuracy: 0.7417\n",
            "Epoch 30/100\n",
            "4/4 [==============================] - 0s 4ms/step - loss: 0.5287 - accuracy: 0.7833\n",
            "Epoch 31/100\n",
            "4/4 [==============================] - 0s 4ms/step - loss: 0.5155 - accuracy: 0.8583\n",
            "Epoch 32/100\n",
            "4/4 [==============================] - 0s 4ms/step - loss: 0.5127 - accuracy: 0.8083\n",
            "Epoch 33/100\n",
            "4/4 [==============================] - 0s 4ms/step - loss: 0.5110 - accuracy: 0.7583\n",
            "Epoch 34/100\n",
            "4/4 [==============================] - 0s 4ms/step - loss: 0.5079 - accuracy: 0.7417\n",
            "Epoch 35/100\n",
            "4/4 [==============================] - 0s 5ms/step - loss: 0.4955 - accuracy: 0.8583\n",
            "Epoch 36/100\n",
            "4/4 [==============================] - 0s 3ms/step - loss: 0.4834 - accuracy: 0.8667\n",
            "Epoch 37/100\n",
            "4/4 [==============================] - 0s 5ms/step - loss: 0.4917 - accuracy: 0.7333\n",
            "Epoch 38/100\n",
            "4/4 [==============================] - 0s 3ms/step - loss: 0.4806 - accuracy: 0.7500\n",
            "Epoch 39/100\n",
            "4/4 [==============================] - 0s 5ms/step - loss: 0.4663 - accuracy: 0.8833\n",
            "Epoch 40/100\n",
            "4/4 [==============================] - 0s 4ms/step - loss: 0.4627 - accuracy: 0.8583\n",
            "Epoch 41/100\n",
            "4/4 [==============================] - 0s 4ms/step - loss: 0.4644 - accuracy: 0.8500\n",
            "Epoch 42/100\n",
            "4/4 [==============================] - 0s 4ms/step - loss: 0.4531 - accuracy: 0.8250\n",
            "Epoch 43/100\n",
            "4/4 [==============================] - 0s 3ms/step - loss: 0.4514 - accuracy: 0.9000\n",
            "Epoch 44/100\n",
            "4/4 [==============================] - 0s 4ms/step - loss: 0.4567 - accuracy: 0.8083\n",
            "Epoch 45/100\n",
            "4/4 [==============================] - 0s 6ms/step - loss: 0.4405 - accuracy: 0.8667\n",
            "Epoch 46/100\n",
            "4/4 [==============================] - 0s 3ms/step - loss: 0.4374 - accuracy: 0.8000\n",
            "Epoch 47/100\n",
            "4/4 [==============================] - 0s 3ms/step - loss: 0.4370 - accuracy: 0.8333\n",
            "Epoch 48/100\n",
            "4/4 [==============================] - 0s 5ms/step - loss: 0.4263 - accuracy: 0.9083\n",
            "Epoch 49/100\n",
            "4/4 [==============================] - 0s 4ms/step - loss: 0.4228 - accuracy: 0.8917\n",
            "Epoch 50/100\n",
            "4/4 [==============================] - 0s 4ms/step - loss: 0.4299 - accuracy: 0.8333\n",
            "Epoch 51/100\n",
            "4/4 [==============================] - 0s 3ms/step - loss: 0.4210 - accuracy: 0.7333\n",
            "Epoch 52/100\n",
            "4/4 [==============================] - 0s 3ms/step - loss: 0.4131 - accuracy: 0.9000\n",
            "Epoch 53/100\n",
            "4/4 [==============================] - 0s 5ms/step - loss: 0.4172 - accuracy: 0.8250\n",
            "Epoch 54/100\n",
            "4/4 [==============================] - 0s 5ms/step - loss: 0.4227 - accuracy: 0.8333\n",
            "Epoch 55/100\n",
            "4/4 [==============================] - 0s 5ms/step - loss: 0.4221 - accuracy: 0.8833\n",
            "Epoch 56/100\n",
            "4/4 [==============================] - 0s 4ms/step - loss: 0.4060 - accuracy: 0.8417\n",
            "Epoch 57/100\n",
            "4/4 [==============================] - 0s 4ms/step - loss: 0.3968 - accuracy: 0.8917\n",
            "Epoch 58/100\n",
            "4/4 [==============================] - 0s 5ms/step - loss: 0.3971 - accuracy: 0.8333\n",
            "Epoch 59/100\n",
            "4/4 [==============================] - 0s 4ms/step - loss: 0.4137 - accuracy: 0.8083\n",
            "Epoch 60/100\n",
            "4/4 [==============================] - 0s 4ms/step - loss: 0.4027 - accuracy: 0.8750\n",
            "Epoch 61/100\n",
            "4/4 [==============================] - 0s 4ms/step - loss: 0.3853 - accuracy: 0.9167\n",
            "Epoch 62/100\n",
            "4/4 [==============================] - 0s 3ms/step - loss: 0.3896 - accuracy: 0.8917\n",
            "Epoch 63/100\n",
            "4/4 [==============================] - 0s 4ms/step - loss: 0.3750 - accuracy: 0.8667\n",
            "Epoch 64/100\n",
            "4/4 [==============================] - 0s 5ms/step - loss: 0.4188 - accuracy: 0.7833\n",
            "Epoch 65/100\n",
            "4/4 [==============================] - 0s 5ms/step - loss: 0.3723 - accuracy: 0.8667\n",
            "Epoch 66/100\n",
            "4/4 [==============================] - 0s 4ms/step - loss: 0.3711 - accuracy: 0.8917\n",
            "Epoch 67/100\n",
            "4/4 [==============================] - 0s 3ms/step - loss: 0.3735 - accuracy: 0.9167\n",
            "Epoch 68/100\n",
            "4/4 [==============================] - 0s 4ms/step - loss: 0.3749 - accuracy: 0.8833\n",
            "Epoch 69/100\n",
            "4/4 [==============================] - 0s 6ms/step - loss: 0.3834 - accuracy: 0.8667\n",
            "Epoch 70/100\n",
            "4/4 [==============================] - 0s 3ms/step - loss: 0.3683 - accuracy: 0.8667\n",
            "Epoch 71/100\n",
            "4/4 [==============================] - 0s 3ms/step - loss: 0.3747 - accuracy: 0.8500\n",
            "Epoch 72/100\n",
            "4/4 [==============================] - 0s 3ms/step - loss: 0.3836 - accuracy: 0.8500\n",
            "Epoch 73/100\n",
            "4/4 [==============================] - 0s 3ms/step - loss: 0.3610 - accuracy: 0.9083\n",
            "Epoch 74/100\n",
            "4/4 [==============================] - 0s 6ms/step - loss: 0.3482 - accuracy: 0.9333\n",
            "Epoch 75/100\n",
            "4/4 [==============================] - 0s 4ms/step - loss: 0.3546 - accuracy: 0.9000\n",
            "Epoch 76/100\n",
            "4/4 [==============================] - 0s 3ms/step - loss: 0.3741 - accuracy: 0.8750\n",
            "Epoch 77/100\n",
            "4/4 [==============================] - 0s 3ms/step - loss: 0.3428 - accuracy: 0.9250\n",
            "Epoch 78/100\n",
            "4/4 [==============================] - 0s 4ms/step - loss: 0.3471 - accuracy: 0.9167\n",
            "Epoch 79/100\n",
            "4/4 [==============================] - 0s 4ms/step - loss: 0.3374 - accuracy: 0.9250\n",
            "Epoch 80/100\n",
            "4/4 [==============================] - 0s 4ms/step - loss: 0.3554 - accuracy: 0.9083\n",
            "Epoch 81/100\n",
            "4/4 [==============================] - 0s 4ms/step - loss: 0.3305 - accuracy: 0.9250\n",
            "Epoch 82/100\n",
            "4/4 [==============================] - 0s 4ms/step - loss: 0.3399 - accuracy: 0.9167\n",
            "Epoch 83/100\n",
            "4/4 [==============================] - 0s 4ms/step - loss: 0.3276 - accuracy: 0.9417\n",
            "Epoch 84/100\n",
            "4/4 [==============================] - 0s 4ms/step - loss: 0.3261 - accuracy: 0.9083\n",
            "Epoch 85/100\n",
            "4/4 [==============================] - 0s 4ms/step - loss: 0.3223 - accuracy: 0.9417\n",
            "Epoch 86/100\n",
            "4/4 [==============================] - 0s 4ms/step - loss: 0.3242 - accuracy: 0.9333\n",
            "Epoch 87/100\n",
            "4/4 [==============================] - 0s 4ms/step - loss: 0.3199 - accuracy: 0.9417\n",
            "Epoch 88/100\n",
            "4/4 [==============================] - 0s 3ms/step - loss: 0.3245 - accuracy: 0.9000\n",
            "Epoch 89/100\n",
            "4/4 [==============================] - 0s 3ms/step - loss: 0.3168 - accuracy: 0.9500\n",
            "Epoch 90/100\n",
            "4/4 [==============================] - 0s 4ms/step - loss: 0.3209 - accuracy: 0.9167\n",
            "Epoch 91/100\n",
            "4/4 [==============================] - 0s 5ms/step - loss: 0.3189 - accuracy: 0.8750\n",
            "Epoch 92/100\n",
            "4/4 [==============================] - 0s 5ms/step - loss: 0.3246 - accuracy: 0.9167\n",
            "Epoch 93/100\n",
            "4/4 [==============================] - 0s 3ms/step - loss: 0.3218 - accuracy: 0.8750\n",
            "Epoch 94/100\n",
            "4/4 [==============================] - 0s 5ms/step - loss: 0.3425 - accuracy: 0.8500\n",
            "Epoch 95/100\n",
            "4/4 [==============================] - 0s 4ms/step - loss: 0.2999 - accuracy: 0.9167\n",
            "Epoch 96/100\n",
            "4/4 [==============================] - 0s 3ms/step - loss: 0.2992 - accuracy: 0.9417\n",
            "Epoch 97/100\n",
            "4/4 [==============================] - 0s 3ms/step - loss: 0.3189 - accuracy: 0.8917\n",
            "Epoch 98/100\n",
            "4/4 [==============================] - 0s 3ms/step - loss: 0.3008 - accuracy: 0.9250\n",
            "Epoch 99/100\n",
            "4/4 [==============================] - 0s 3ms/step - loss: 0.2953 - accuracy: 0.9333\n",
            "Epoch 100/100\n",
            "4/4 [==============================] - 0s 4ms/step - loss: 0.3072 - accuracy: 0.9000\n"
          ]
        }
      ]
    },
    {
      "cell_type": "code",
      "metadata": {
        "colab": {
          "base_uri": "https://localhost:8080/",
          "height": 265
        },
        "id": "gVc4mQLh982l",
        "outputId": "327f3f61-ea7e-4b9d-bdd8-2001621205c4"
      },
      "source": [
        "plt.plot(history.history['accuracy'])\n",
        "plt.show()"
      ],
      "execution_count": 153,
      "outputs": [
        {
          "output_type": "display_data",
          "data": {
            "image/png": "[encoded data removed]",
            "text/plain": [
              "<Figure size 432x288 with 1 Axes>"
            ]
          },
          "metadata": {
            "needs_background": "light"
          }
        }
      ]
    },
    {
      "cell_type": "code",
      "metadata": {
        "id": "3sdmfvEzJv4b"
      },
      "source": [
        "predicted_target = model.predict(x_test)"
      ],
      "execution_count": 154,
      "outputs": []
    },
    {
      "cell_type": "code",
      "metadata": {
        "colab": {
          "base_uri": "https://localhost:8080/"
        },
        "id": "dkBfkEYbJvzw",
        "outputId": "fca4f50f-ba41-4af1-9f10-28ce6fb47714"
      },
      "source": [
        "print(predicted_target)"
      ],
      "execution_count": 155,
      "outputs": [
        {
          "output_type": "stream",
          "name": "stdout",
          "text": [
            "[[2.11360734e-02 6.63229644e-01 3.15634310e-01]\n",
            " [9.71861839e-01 2.79494431e-02 1.88708524e-04]\n",
            " [2.14562863e-02 6.81717515e-01 2.96826124e-01]\n",
            " [2.14372948e-03 3.63094062e-01 6.34762228e-01]\n",
            " [3.63132963e-03 4.30292398e-01 5.66076279e-01]\n",
            " [6.22360641e-03 4.58065808e-01 5.35710573e-01]\n",
            " [8.69145151e-04 2.83173144e-01 7.15957701e-01]\n",
            " [2.00735684e-03 3.71287912e-01 6.26704693e-01]\n",
            " [1.92547906e-02 6.37845159e-01 3.42900008e-01]\n",
            " [2.25916228e-04 2.18341634e-01 7.81432450e-01]\n",
            " [9.76747930e-01 2.31184196e-02 1.33701949e-04]\n",
            " [1.82335483e-04 1.71402037e-01 8.28415632e-01]\n",
            " [1.14928174e-03 3.09262544e-01 6.89588130e-01]\n",
            " [9.82143700e-01 1.77681427e-02 8.81685119e-05]\n",
            " [9.80028987e-01 1.98547337e-02 1.16291223e-04]\n",
            " [2.42733237e-04 1.82830423e-01 8.16926777e-01]\n",
            " [3.31763767e-05 1.08270966e-01 8.91695857e-01]\n",
            " [9.10097122e-01 8.81144628e-02 1.78847974e-03]\n",
            " [7.37881521e-03 5.43822944e-01 4.48798269e-01]\n",
            " [2.14599371e-02 5.88680923e-01 3.89859110e-01]\n",
            " [1.97900459e-03 3.87905419e-01 6.10115528e-01]\n",
            " [3.89482314e-03 4.28921878e-01 5.67183316e-01]\n",
            " [1.76442508e-02 5.20138264e-01 4.62217480e-01]\n",
            " [9.81961250e-01 1.79557521e-02 8.30150311e-05]\n",
            " [9.57627833e-01 4.19469140e-02 4.25245962e-04]\n",
            " [1.26918284e-02 5.38457513e-01 4.48850691e-01]\n",
            " [9.46936104e-03 4.89095956e-01 5.01434624e-01]\n",
            " [9.60529625e-01 3.91600132e-02 3.10313859e-04]\n",
            " [9.74457204e-01 2.53654271e-02 1.77331312e-04]\n",
            " [8.11618811e-05 1.12933517e-01 8.86985362e-01]]\n"
          ]
        }
      ]
    },
    {
      "cell_type": "code",
      "metadata": {
        "colab": {
          "base_uri": "https://localhost:8080/"
        },
        "id": "z-4Gy1ZJJvwG",
        "outputId": "95d6d257-9426-460c-adf7-fba36aaf1d72"
      },
      "source": [
        "print(\"Pridected :\", np.argmax(predicted_target, axis = 1))\n",
        "print()\n",
        "print(\"Actual:    \", y_test)"
      ],
      "execution_count": 156,
      "outputs": [
        {
          "output_type": "stream",
          "name": "stdout",
          "text": [
            "Pridected : [1 0 1 2 2 2 2 2 1 2 0 2 2 0 0 2 2 0 1 1 2 2 1 0 0 1 2 0 0 2]\n",
            "\n",
            "Actual:     [1 0 1 1 2 1 2 2 1 2 0 2 2 0 0 2 2 0 1 1 2 1 1 0 0 1 1 0 0 2]\n"
          ]
        }
      ]
    },
    {
      "cell_type": "code",
      "metadata": {
        "id": "h05WYXcRJvso"
      },
      "source": [
        ""
      ],
      "execution_count": null,
      "outputs": []
    }
  ]
}