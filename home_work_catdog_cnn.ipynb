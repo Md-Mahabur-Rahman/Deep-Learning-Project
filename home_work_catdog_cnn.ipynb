{
 "cells": [
  {
   "cell_type": "code",
   "execution_count": 1,
   "id": "fdd631f9",
   "metadata": {},
   "outputs": [],
   "source": [
    "import os \n",
    "import numpy as np\n",
    "from PIL import Image,ImageTk\n",
    "from io import BytesIO\n",
    "import requests\n",
    "from tkinter import Tk, Label,Canvas,Entry,Button,NW\n",
    "from keras.models import Sequential, load_model\n",
    "from keras.layers import Conv2D, MaxPooling2D,Flatten,Dense\n",
    "from keras.preprocessing.image import ImageDataGenerator,load_img,img_to_array\n",
    "from keras.preprocessing import image as image_utils"
   ]
  },
  {
   "cell_type": "code",
   "execution_count": 2,
   "id": "0470a634",
   "metadata": {},
   "outputs": [],
   "source": [
    "model =Sequential()\n",
    "\n",
    "model.add(Conv2D(32,(3,3),input_shape=(128,128,3),activation=\"relu\"))\n",
    "model.add(MaxPooling2D(pool_size=(2,2)))\n",
    "\n",
    "model.add(Conv2D(64,(3,3),activation=\"relu\"))\n",
    "model.add(MaxPooling2D(pool_size=(2,2)))\n",
    "\n",
    "\n",
    "model.add(Conv2D(64,(3,3),activation=\"relu\"))\n",
    "model.add(MaxPooling2D(pool_size=(2,2)))\n",
    "\n",
    "model.add(Flatten())\n",
    "\n",
    "model.add(Dense(128,activation=\"relu\"))\n",
    "model.add(Dense(2,activation=\"sigmoid\"))"
   ]
  },
  {
   "cell_type": "code",
   "execution_count": 3,
   "id": "fae7af0d",
   "metadata": {},
   "outputs": [],
   "source": [
    "model.compile(optimizer=\"adam\",loss=\"categorical_crossentropy\",metrics=[\"accuracy\"])"
   ]
  },
  {
   "cell_type": "code",
   "execution_count": 4,
   "id": "db38c27d",
   "metadata": {},
   "outputs": [],
   "source": [
    "train_datagen=ImageDataGenerator(rescale=1.0/255,shear_range=0.2,zoom_range=0.2,horizontal_flip=True)"
   ]
  },
  {
   "cell_type": "code",
   "execution_count": 5,
   "id": "2481d606",
   "metadata": {},
   "outputs": [],
   "source": [
    "test_dategen=ImageDataGenerator(rescale=1.0/255)"
   ]
  },
  {
   "cell_type": "code",
   "execution_count": 6,
   "id": "72daba59",
   "metadata": {},
   "outputs": [
    {
     "name": "stdout",
     "output_type": "stream",
     "text": [
      "Found 8005 images belonging to 2 classes.\n",
      "Found 2023 images belonging to 2 classes.\n"
     ]
    }
   ],
   "source": [
    "training_datasets=train_datagen.flow_from_directory(\"datasetcatdog/training_set\",target_size=(128,128),batch_size=32,class_mode=\"categorical\")\n",
    "testing_dategen=test_dategen.flow_from_directory(\"datasetcatdog/test_set\",target_size=(128,128),batch_size=32,class_mode=\"categorical\")"
   ]
  },
  {
   "cell_type": "code",
   "execution_count": 7,
   "id": "f8b3b991",
   "metadata": {},
   "outputs": [
    {
     "name": "stdout",
     "output_type": "stream",
     "text": [
      "Epoch 1/5\n",
      "125/125 [==============================] - 137s 1s/step - loss: 0.6924 - accuracy: 0.5682 - val_loss: 0.6673 - val_accuracy: 0.5801\n",
      "Epoch 2/5\n",
      "125/125 [==============================] - 151s 1s/step - loss: 0.6271 - accuracy: 0.6488 - val_loss: 0.5911 - val_accuracy: 0.6943\n",
      "Epoch 3/5\n",
      "125/125 [==============================] - 156s 1s/step - loss: 0.6049 - accuracy: 0.6634 - val_loss: 0.5765 - val_accuracy: 0.7041\n",
      "Epoch 4/5\n",
      "125/125 [==============================] - 165s 1s/step - loss: 0.5713 - accuracy: 0.6959 - val_loss: 0.5876 - val_accuracy: 0.6836\n",
      "Epoch 5/5\n",
      "125/125 [==============================] - 139s 1s/step - loss: 0.5424 - accuracy: 0.7324 - val_loss: 0.5931 - val_accuracy: 0.6719\n"
     ]
    },
    {
     "data": {
      "text/plain": [
       "<keras.callbacks.History at 0x1a38c4c7508>"
      ]
     },
     "execution_count": 7,
     "metadata": {},
     "output_type": "execute_result"
    }
   ],
   "source": [
    "model.fit(training_datasets,steps_per_epoch=4002/32, epochs=5,validation_data=testing_dategen,validation_steps=1012/32)"
   ]
  },
  {
   "cell_type": "code",
   "execution_count": 8,
   "id": "7899fbcb",
   "metadata": {},
   "outputs": [],
   "source": [
    "model.save(\"datasetcatdog/model.h5\")\n",
    "model.save_weights(\"datasetcatdog/model_weights.h5\")"
   ]
  },
  {
   "cell_type": "code",
   "execution_count": 9,
   "id": "c245fffc",
   "metadata": {},
   "outputs": [],
   "source": [
    "image_width, image_height = 128, 128\n",
    "model_path = \"model/model.h5\"\n",
    "model_wight_path = \"model/model_weights.h5\"\n",
    "\n",
    "final_model = load_model(model_path) \n",
    "final_model.load_weights(model_wight_path)"
   ]
  },
  {
   "cell_type": "code",
   "execution_count": 10,
   "id": "2c8dc228",
   "metadata": {},
   "outputs": [],
   "source": [
    "url=''\n",
    "window=Tk()\n",
    "window.title(\"Image Classifcation Using CNN\")#\n",
    "window.geometry(\"800x800\")\n",
    "label=Label(window,text=\"Please Enter your Custom URL\",font=(\"Halvetica\",16))\n",
    "label.pack()"
   ]
  },
  {
   "cell_type": "code",
   "execution_count": 11,
   "id": "6b35c218",
   "metadata": {},
   "outputs": [],
   "source": [
    "def Enter():\n",
    "    global url\n",
    "    label.configure()\n",
    "    url=(User_input.get())\n",
    "    print(url)\n",
    "    \n",
    "    response=requests.get(url)\n",
    "    test_image=Image.open(BytesIO(response.content))\n",
    "    put_image=test_image.resize((400,400))\n",
    "    test_image=test_image.resize((128,128))\n",
    "    \n",
    "    img=ImageTk.PhotoImage(put_image)\n",
    "    pic=Label(image=img)\n",
    "    pic.pack()\n",
    "    \n",
    "    pic.image=img\n",
    "    test_image=image_utils.img_to_array(test_image)\n",
    "    test_image=np.expand_dims(test_image,axis=0)\n",
    "    \n",
    "    results=model.predict_on_batch(test_image)\n",
    "    \n",
    "    if results[0][0]==1:\n",
    "        res=\"Dog\"\n",
    "    elif results[0][1]==1:\n",
    "        res=\"Cat\"\n",
    "        \n",
    "    output=Label(window,text=\" Predicted Results: \"+ res,font=(\"Halvetica\",16))\n",
    "    output.pack()"
   ]
  },
  {
   "cell_type": "code",
   "execution_count": null,
   "id": "5add61a6",
   "metadata": {},
   "outputs": [],
   "source": [
    "User_input=Entry()\n",
    "User_input.pack()\n",
    "button=Button(window,text=\" Detect Image : \" ,font=(\"Halvetica\",16),command=Enter)\n",
    "button.pack()\n",
    "window.mainloop()"
   ]
  },
  {
   "cell_type": "code",
   "execution_count": null,
   "id": "dffba6ca",
   "metadata": {},
   "outputs": [],
   "source": []
  }
 ],
 "metadata": {
  "kernelspec": {
   "display_name": "Python 3 (ipykernel)",
   "language": "python",
   "name": "python3"
  },
  "language_info": {
   "codemirror_mode": {
    "name": "ipython",
    "version": 3
   },
   "file_extension": ".py",
   "mimetype": "text/x-python",
   "name": "python",
   "nbconvert_exporter": "python",
   "pygments_lexer": "ipython3",
   "version": "3.7.11"
  }
 },
 "nbformat": 4,
 "nbformat_minor": 5
}
